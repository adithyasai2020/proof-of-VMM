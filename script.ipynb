{
 "cells": [
  {
   "cell_type": "code",
   "execution_count": 1,
   "metadata": {},
   "outputs": [],
   "source": [
    "import numpy as np"
   ]
  },
  {
   "cell_type": "code",
   "execution_count": 2,
   "metadata": {},
   "outputs": [],
   "source": [
    "DIGITS = \"0123456789ABCDEFGHIJKLMNOPQRSTUVWXYZ\"\n",
    "base = 16"
   ]
  },
  {
   "cell_type": "code",
   "execution_count": 3,
   "metadata": {},
   "outputs": [],
   "source": [
    "def decimal_to_base(number : int, base : int, length : int):\n",
    "    \"\"\"\n",
    "    Converts decimal number to another base\n",
    "    Args:\n",
    "        number(int): decimal number to convert into another base\n",
    "        base(int): target base to convert the number into\n",
    "        length(int): length of the representation\n",
    "    \n",
    "    Returns:\n",
    "        str: number in the new base\n",
    "    \n",
    "    Note:\n",
    "    \n",
    "    \"\"\"\n",
    "    if (not isinstance(base, int)) or (not isinstance(length, int)) or (base <= 1):\n",
    "        return \"invalid input\"\n",
    "    maxpow = base ** (length-1)\n",
    "    if number >= maxpow or number < -maxpow:\n",
    "        return \"number out of bounds\"\n",
    "    \n",
    "    \n",
    "    answer = [\"\" for _ in range(length)]\n",
    "    for i in range(length):\n",
    "        \n",
    "        if i == 0:\n",
    "\n",
    "            if number < 0:\n",
    "                answer[i] = DIGITS[1]\n",
    "                number += maxpow\n",
    "            else:\n",
    "                answer[i] = DIGITS[0]\n",
    "        else:\n",
    "            answer[i] = DIGITS[int(number//maxpow)]\n",
    "            number -= (number//maxpow)*maxpow\n",
    "                        \n",
    "        maxpow /= base\n",
    "\n",
    "        \n",
    "    return \"\".join(answer)"
   ]
  },
  {
   "cell_type": "code",
   "execution_count": null,
   "metadata": {},
   "outputs": [],
   "source": []
  },
  {
   "cell_type": "code",
   "execution_count": 4,
   "metadata": {},
   "outputs": [],
   "source": [
    "def base_to_decimal(string : str , base : int , signed : bool = True):\n",
    "    \"\"\"\n",
    "    Converts integer in certain base to decimal form.\n",
    "    Args:\n",
    "        string(str): string of number in given base\n",
    "        base(int): given base\n",
    "        signed(bool): True if given string represents signed integer, else false\n",
    "    \n",
    "    Returns:\n",
    "        int: decimal form of the string converted from the given base.\n",
    "    \n",
    "    Note:\n",
    "    \n",
    "    \"\"\"\n",
    "    if (not isinstance(base, int))  or (base <= 1):\n",
    "        return \"invalid input\"\n",
    "    maxpow = base ** (len(string)-1)\n",
    "\n",
    "    answer = 0\n",
    "    for i in range(len(string)):\n",
    "        if i == 0:\n",
    "            answer += (-2*signed + 1) * maxpow * DIGITS.index(string[i])\n",
    "        else:\n",
    "            answer += maxpow * DIGITS.index(string[i])\n",
    "        maxpow /= base\n",
    "    return answer\n"
   ]
  },
  {
   "cell_type": "code",
   "execution_count": 5,
   "metadata": {},
   "outputs": [
    {
     "data": {
      "text/plain": [
       "'000064'"
      ]
     },
     "execution_count": 5,
     "metadata": {},
     "output_type": "execute_result"
    }
   ],
   "source": [
    "decimal_to_base(100, 16, 6)"
   ]
  },
  {
   "cell_type": "code",
   "execution_count": 6,
   "metadata": {},
   "outputs": [
    {
     "name": "stdout",
     "output_type": "stream",
     "text": [
      "-10\n"
     ]
    }
   ],
   "source": [
    "string = \"16\"\n",
    "base = 16\n",
    "\n",
    "print(  (-1*int(string[0]))* (base ** (len(string)-1)) + int(string[1:], 16) )"
   ]
  },
  {
   "cell_type": "code",
   "execution_count": 7,
   "metadata": {},
   "outputs": [
    {
     "name": "stdout",
     "output_type": "stream",
     "text": [
      "1FF6\n"
     ]
    }
   ],
   "source": [
    "def multiply(A:str, B:str, base:int):\n",
    "    \"\"\"\n",
    "    Multiplies two integers represented as strings given in a certain base.\n",
    "\n",
    "    Args:\n",
    "        A(str): The first string in the given base.\n",
    "        B(str): The second string in the given base.\n",
    "        base(int): Base of the number system.\n",
    "    Returns:\n",
    "        str: Product of the strings by our algorithm.\n",
    "    Note:\n",
    "        This is just an intermediate function made while writing the dot_product() function. \n",
    "        I have constrained A and B to be of same length but if you want, please feel free \n",
    "        to bang your head to accomodate other cases which are irrelevant for our use case.\n",
    "    \"\"\"\n",
    "    if (not isinstance(base, int))  or (base <= 1) or len(A) != len(B):\n",
    "        return \"invalid input\"\n",
    "    L = len(A)\n",
    "    answer = [0 for _ in range(2*L)]\n",
    "\n",
    "    arr1, arr2 = [DIGITS.index(A[L-1-(L-1)])] ,[ DIGITS.index(B[L-1-(L-1)])]\n",
    "\n",
    "    answer[2*L - 1 - (2*(L - 1))] = np.dot(arr1, arr2)\n",
    "\n",
    "\n",
    "    for i in range(L-1):\n",
    "        arr1, arr2 = [DIGITS.index(A[L-1-(L-1)]),  DIGITS.index(A[L-1-(i)]) ], [DIGITS.index(B[L-1-(i)]),  DIGITS.index(B[L-1-(L-1)]) ]\n",
    "        answer[2*L-1 - (L + i - 1)] -= np.dot(arr1, arr2)\n",
    "\n",
    "    for a in range(2*(L-2)+1):\n",
    "        if a < L-1:\n",
    "            arr1, arr2 = [  DIGITS.index(A[L-1-i])   for i in range(a+1)  ], [  DIGITS.index(B[L-1-(a-i)]) for i in range(a+1)  ]\n",
    "            answer[2*L-1-a] += np.dot(arr1, arr2)\n",
    "\n",
    "        else:\n",
    "            arr1, arr2 = [  DIGITS.index(A[L-1-i])  for i in range(a-(L-2), L-1)  ], [   DIGITS.index(B[L-1-(a-i)]) for i in range(a-(L-2), L-1)  ]\n",
    "            answer[2*L-1-a] += np.dot(arr1, arr2)\n",
    "\n",
    "    carry = 0\n",
    "    for i in range(2*L-1, -1, -1):\n",
    "        if i == 0:\n",
    "            if carry == -1:\n",
    "                answer[i] = 1\n",
    "            elif carry == 0:\n",
    "                answer[i] = 0\n",
    "            else:\n",
    "                print(\"exception occured \", A, B)\n",
    "        else:\n",
    "            answer[i] += carry\n",
    "            carry = answer[i]//base\n",
    "            answer[i] = answer[i]%base\n",
    "\n",
    "    answer = [DIGITS[i] for i in answer]\n",
    "\n",
    "    return \"\".join(answer)\n",
    "\n",
    "print( multiply(\"16\", \"01\", base))"
   ]
  },
  {
   "cell_type": "code",
   "execution_count": 8,
   "metadata": {},
   "outputs": [
    {
     "data": {
      "text/plain": [
       "('0000000000', '0000000000', 0)"
      ]
     },
     "execution_count": 8,
     "metadata": {},
     "output_type": "execute_result"
    }
   ],
   "source": [
    "def dot_product(A:list, B:list, base:int):\n",
    "    \"\"\"\n",
    "    Dot Product of two lists of strings in a base.\n",
    "    \n",
    "    Args:\n",
    "        A(list) : The first list where each element is an integer in a base\n",
    "        B(list) : The second list where each element is an integer in a base\n",
    "        base(int) : Base of the number system\n",
    "    Returns:\n",
    "        string: Dot product of the numbers of base.\n",
    "    \n",
    "    Note:\n",
    "        lengths of all strings in A and B are same.\n",
    "    \n",
    "    \"\"\"\n",
    "    if (not isinstance(base, int))  or (base <= 1) or len(A) != len(B):\n",
    "        return \"invalid input\"\n",
    "    \n",
    "\n",
    "    def flatten(lis):\n",
    "        \"\"\"\n",
    "        Flattens a 2-d list.\n",
    "\n",
    "        Args:\n",
    "            lis(list) : The list to flatten\n",
    "\n",
    "        Returns:\n",
    "            list : flattened list\n",
    "        \"\"\"\n",
    "        return  [item for sublist in lis for item in sublist]\n",
    "\n",
    "    # Length of each string\n",
    "    L = len(A[0])\n",
    "    #List to store final dot product\n",
    "    answer = [0 for _ in range(2*L)]\n",
    "    \n",
    "    # Temporary arrays used all over. Each element of these lists is a length = 1 number in the given base\n",
    "    # Everywhere we used arr1 and arr2, they are the arrays that will be the only arrays actually placed on chip \"to perform logic\".\n",
    "    # There will be a crossbar array to store the pre-processed input values\n",
    "    arr1, arr2 = [[DIGITS.index(A[n][L-1-(L-1)])] for n in range(len(A))] ,[[ DIGITS.index(B[n][L-1-(L-1)])] for n in range(len(A))]\n",
    "    \n",
    "    # First summation part of the algorithm\n",
    "    #Setting the 1st index of answer according to the algorithm\n",
    "    answer[2*L - 1 - (2*(L - 1))] = np.dot(flatten(arr1), flatten(arr2))\n",
    "\n",
    "    # Second part of the algorithm. The minus part\n",
    "    for i in range(L-1):\n",
    "        arr1, arr2 = [[DIGITS.index(A[n][L-1-(L-1)]),  DIGITS.index(A[n][L-1-(i)]) ] for n in range(len(A))], [[DIGITS.index(B[n][L-1-(i)]),  DIGITS.index(B[n][L-1-(L-1)]) ] for n in range(len(A))]\n",
    "        # Minus operation can be achieved by pulling the appropriate value of current using current mirrors, or using a differential amplifier etc....\n",
    "        # the exact implementation can be figured out but that is not much of a concern because it is pretty standard problem and there are standard solutions.\n",
    "        answer[2*L-1 - (L + i - 1)] -= np.dot(flatten(arr1), flatten(arr2))\n",
    "    \n",
    "    # Final part of the algorithm, the double summation which we then reduced to a single summation.\n",
    "    for a in range(2*(L-2)+1):\n",
    "        if a < L-1:\n",
    "            arr1, arr2 = [[  DIGITS.index(A[n][L-1-i])   for i in range(a+1)  ] for n in range(len(A))], [[  DIGITS.index(B[n][L-1-(a-i)]) for i in range(a+1)  ] for n in range(len(A))]\n",
    "\n",
    "            answer[2*L-1-a] += np.dot(flatten(arr1), flatten(arr2))\n",
    "\n",
    "        else:\n",
    "            arr1, arr2 = [[  DIGITS.index(A[n][L-1-i])  for i in range(a-(L-2), L-1)  ] for n in range(len(A))], [[   DIGITS.index(B[n][L-1-(a-i)]) for i in range(a-(L-2), L-1)  ] for n in range(len(A))]\n",
    "            answer[2*L-1-a] += np.dot(flatten(arr1), flatten(arr2))\n",
    "\n",
    "    # During multipying big numbers, we multiply small numbers and then send carry forward. This is that part of the algorithm.\n",
    "    #This part will be taken care by software. This is an O(L^2) problem, so it is not much of a burden on the overall time complexity.   \n",
    "    carry = 0\n",
    "    for i in range(2*L-1, -1, -1):\n",
    "        if i == 0:\n",
    "            if carry<=0:\n",
    "                answer[i] = -carry\n",
    "            else:\n",
    "                # For some reason if my algorithm breaks.....just in case\n",
    "                print(\"exception occured\", carry, A, B)\n",
    "        else:\n",
    "            answer[i] += carry\n",
    "            carry = answer[i]//base\n",
    "            answer[i] = answer[i]%base\n",
    "\n",
    "    # Finally joining the answer to return\n",
    "    answer = [DIGITS[i] for i in answer]\n",
    "    return \"\".join(answer)\n",
    "    \n",
    "\n",
    "num1, num2 = [-64732, 64732], [36191, 36191]\n",
    "length = 5\n",
    "arr1, arr2 = [decimal_to_base(n, base, length) for n in num1], [decimal_to_base(n, base, length) for n in num2]\n",
    "dot_product(arr1, arr2, base), decimal_to_base((np.dot(num1, num2)), base, 2*length), np.dot(num1, num2)\n"
   ]
  },
  {
   "cell_type": "markdown",
   "metadata": {},
   "source": [
    "Testbench to test multiply function"
   ]
  },
  {
   "cell_type": "code",
   "execution_count": 9,
   "metadata": {},
   "outputs": [],
   "source": [
    "def test():\n",
    "    length, base = 6, 16\n",
    "    num1, num2 = np.random.randint(-base**(length-1), base**(length-1)), np.random.randint(-base**(length-1), base**(length-1))\n",
    "    if  num1*num2 != base_to_decimal(multiply(  decimal_to_base(int(num1), base, length), decimal_to_base(int(num2), base, length)  ,base), base, True):\n",
    "        print(num1, num2, \"Violated\")\n",
    "\n",
    "for _ in range(100000):\n",
    "    test()"
   ]
  },
  {
   "cell_type": "markdown",
   "metadata": {},
   "source": [
    "Testbench to test the final dot product"
   ]
  },
  {
   "cell_type": "code",
   "execution_count": 10,
   "metadata": {},
   "outputs": [],
   "source": [
    "def test_dot_product():\n",
    "    length, base = 5, 8\n",
    "    lower_limit, upper_limit = -base**(length-1), base**(length-1)\n",
    "    num1, num2 = np.random.randint(lower_limit, upper_limit, size = 15), np.random.randint(lower_limit, upper_limit, size = 15)\n",
    "    arr1, arr2 = [decimal_to_base(n, base, length) for n in num1], [decimal_to_base(n, base, length) for n in num2]\n",
    "\n",
    "    \n",
    "    if (base_to_decimal(dot_product(arr1, arr2, base), base, True) !=  np.dot(num1, num2) ):\n",
    "        print(num1, num2)\n",
    "\n",
    "\n",
    "for _ in range(100000):\n",
    "    test_dot_product()\n"
   ]
  },
  {
   "cell_type": "code",
   "execution_count": 11,
   "metadata": {},
   "outputs": [
    {
     "data": {
      "text/plain": [
       "-2342715812.0"
      ]
     },
     "execution_count": 11,
     "metadata": {},
     "output_type": "execute_result"
    }
   ],
   "source": [
    "np.dot(-64732,36191.0)"
   ]
  },
  {
   "cell_type": "code",
   "execution_count": 12,
   "metadata": {},
   "outputs": [
    {
     "data": {
      "text/plain": [
       "'0100000001010111011010110111001100011000111111000101000001001000'"
      ]
     },
     "execution_count": 12,
     "metadata": {},
     "output_type": "execute_result"
    }
   ],
   "source": [
    "import struct\n",
    "\n",
    "def double_to_binary_string(d):\n",
    "    double_as_bytes = struct.pack('d', d)\n",
    "    double_as_int = struct.unpack('Q', double_as_bytes)[0]\n",
    "    return format(double_as_int, '064b')\n",
    "\n",
    "double_to_binary_string(93.6789)"
   ]
  },
  {
   "cell_type": "code",
   "execution_count": 13,
   "metadata": {},
   "outputs": [
    {
     "data": {
      "text/plain": [
       "0.9876987"
      ]
     },
     "execution_count": 13,
     "metadata": {},
     "output_type": "execute_result"
    }
   ],
   "source": [
    "def binary_to_decimal(s):\n",
    "    sign, exponent, mantissa = int(s[0]), s[1:12], s[12:]\n",
    "    exponent, mantissa = base_to_decimal(exponent, 2, False), base_to_decimal(mantissa, 2, False)\n",
    "    return  (-1)**sign * (1 + mantissa/2**52) *(2**(exponent-1023))\n",
    "binary_to_decimal(double_to_binary_string(0.9876987))"
   ]
  },
  {
   "cell_type": "code",
   "execution_count": 14,
   "metadata": {},
   "outputs": [
    {
     "name": "stdout",
     "output_type": "stream",
     "text": [
      "1000000000000000000000000000000000000000000000000000\n",
      "10000000000000000000000000000000000000000000000000000 -1\n",
      "53\n"
     ]
    }
   ],
   "source": [
    "def preprocessing(num, base:int):\n",
    "    \"\"\"\n",
    "    Converts any float into integer of given base, multiplied by some comstant power of two.\n",
    "    \"\"\"\n",
    "    if (not isinstance(base, int))  or (base <= 1):\n",
    "        return \"invalid input\"\n",
    "    bin_str = double_to_binary_string(num)\n",
    "    sign, exponent, mantissa = int(bin_str[0]), bin_str[1:12], bin_str[12:]\n",
    "\n",
    "    print(mantissa)\n",
    "    exponent = int(base_to_decimal(exponent, 2, False))\n",
    "    diff = 1023 - exponent \n",
    "\n",
    "    if diff >= 0 :\n",
    "        mantissa = (\"0\"*diff + mantissa)[:len(mantissa)]\n",
    "    elif diff < 0 :\n",
    "        mantissa = mantissa + \"0\"*(-diff)\n",
    "    print(mantissa, diff)\n",
    "    print(len(mantissa))\n",
    "\n",
    "\n",
    "\n",
    "\n",
    "preprocessing(3, 16)\n",
    "\n",
    "\n",
    "\n"
   ]
  },
  {
   "cell_type": "code",
   "execution_count": null,
   "metadata": {},
   "outputs": [],
   "source": []
  },
  {
   "cell_type": "code",
   "execution_count": null,
   "metadata": {},
   "outputs": [],
   "source": []
  },
  {
   "cell_type": "code",
   "execution_count": null,
   "metadata": {},
   "outputs": [],
   "source": []
  }
 ],
 "metadata": {
  "kernelspec": {
   "display_name": "Python 3",
   "language": "python",
   "name": "python3"
  },
  "language_info": {
   "codemirror_mode": {
    "name": "ipython",
    "version": 3
   },
   "file_extension": ".py",
   "mimetype": "text/x-python",
   "name": "python",
   "nbconvert_exporter": "python",
   "pygments_lexer": "ipython3",
   "version": "3.9.7"
  }
 },
 "nbformat": 4,
 "nbformat_minor": 2
}
